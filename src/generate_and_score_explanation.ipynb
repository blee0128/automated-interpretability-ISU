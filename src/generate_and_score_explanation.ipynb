{
 "cells": [
  {
   "cell_type": "code",
   "execution_count": null,
   "metadata": {},
   "outputs": [
    {
     "ename": "",
     "evalue": "",
     "output_type": "error",
     "traceback": [
      "\u001b[1;31mRunning cells with '/usr/local/bin/python3' requires the ipykernel package.\n",
      "\u001b[1;31mRun the following command to install 'ipykernel' into the Python environment. \n",
      "\u001b[1;31mCommand: '/usr/local/bin/python3 -m pip install ipykernel -U --user --force-reinstall'"
     ]
    }
   ],
   "source": [
    "%load_ext autoreload\n",
    "%autoreload 2"
   ]
  },
  {
   "cell_type": "code",
   "execution_count": 2,
   "metadata": {},
   "outputs": [
    {
     "name": "stdout",
     "output_type": "stream",
     "text": [
      "done with prompt\n",
      "[{'role': <Role.SYSTEM: 'system'>, 'content': \"We're studying neurons in a neural network. Each neuron looks for some particular thing in a short document. Look at the parts of the document the neuron activates for and summarize in a single sentence what the neuron is looking for. Don't list examples of words.\\n\\nThe activation format is token<tab>activation. Activation values range from 0 to 10. A neuron finding what it's looking for is represented by a non-zero activation value. The higher the activation value, the stronger the match.\"}, {'role': <Role.USER: 'user'>, 'content': \"\\n\\nNeuron 1\\nActivations:\\n<start>\\nt\\t0\\nurt\\t0\\nur\\t0\\nro\\t0\\n is\\t0\\n fab\\t0\\nulously\\t0\\n funny\\t0\\n and\\t0\\n over\\t0\\n the\\t0\\n top\\t0\\n as\\t0\\n a\\t0\\n '\\t0\\nvery\\t0\\n sneaky\\t0\\n'\\t1\\n but\\t0\\nler\\t0\\n who\\t0\\n excel\\t0\\ns\\t0\\n in\\t0\\n the\\t0\\n art\\t0\\n of\\t0\\n impossible\\t0\\n disappearing\\t6\\n/\\t0\\nre\\t0\\napp\\t0\\nearing\\t10\\n acts\\t0\\n<end>\\n<start>\\nesc\\t0\\naping\\t9\\n the\\t4\\n studio\\t0\\n ,\\t0\\n pic\\t0\\ncol\\t0\\ni\\t0\\n is\\t0\\n warm\\t0\\nly\\t0\\n affecting\\t3\\n and\\t0\\n so\\t0\\n is\\t0\\n this\\t0\\n ad\\t0\\nroit\\t0\\nly\\t0\\n minimalist\\t0\\n movie\\t0\\n .\\t0\\n<end>\\n\\nSame activations, but with all zeros filtered out:\\n<start>\\n'\\t1\\n disappearing\\t6\\nearing\\t10\\n<end>\\n<start>\\naping\\t9\\n the\\t4\\n affecting\\t3\\n<end>\\n\\nExplanation of neuron 1 behavior: the main thing this neuron does is find\"}, {'role': <Role.ASSISTANT: 'assistant'>, 'content': \" present tense verbs ending in 'ing'.\"}, {'role': <Role.USER: 'user'>, 'content': \"\\n\\nNeuron 2\\nActivations:\\n<start>\\nas\\t0\\n sac\\t0\\nchar\\t0\\nine\\t0\\n movies\\t0\\n go\\t0\\n ,\\t0\\n this\\t0\\n is\\t0\\n likely\\t0\\n to\\t0\\n cause\\t0\\n massive\\t0\\n cardiac\\t0\\n arrest\\t10\\n if\\t0\\n taken\\t0\\n in\\t0\\n large\\t0\\n doses\\t0\\n .\\t0\\n<end>\\n<start>\\nshot\\t0\\n perhaps\\t0\\n '\\t0\\nart\\t0\\nistically\\t0\\n'\\t0\\n with\\t0\\n handheld\\t0\\n cameras\\t0\\n and\\t0\\n apparently\\t0\\n no\\t0\\n movie\\t0\\n lights\\t0\\n by\\t0\\n jo\\t0\\naquin\\t0\\n b\\t0\\naca\\t0\\n-\\t0\\nas\\t0\\nay\\t0\\n ,\\t0\\n the\\t0\\n low\\t0\\n-\\t0\\nbudget\\t0\\n production\\t0\\n swings\\t0\\n annoy\\t0\\ningly\\t0\\n between\\t0\\n vert\\t0\\nigo\\t9\\n and\\t0\\n opacity\\t0\\n .\\t0\\n<end>\\n\\nSame activations, but with all zeros filtered out:\\n<start>\\n arrest\\t10\\n<end>\\n<start>\\nigo\\t9\\n<end>\\n\\nExplanation of neuron 2 behavior: the main thing this neuron does is find\"}, {'role': <Role.ASSISTANT: 'assistant'>, 'content': ' words related to physical medical conditions.'}, {'role': <Role.USER: 'user'>, 'content': \"\\n\\nNeuron 3\\nActivations:\\n<start>\\nthe\\t0\\n sense\\t0\\n of\\t0\\n together\\t3\\nness\\t7\\n in\\t0\\n our\\t0\\n town\\t1\\n is\\t0\\n strong\\t0\\n .\\t0\\n<end>\\n<start>\\na\\t0\\n buoy\\t0\\nant\\t0\\n romantic\\t0\\n comedy\\t0\\n about\\t0\\n friendship\\t0\\n ,\\t0\\n love\\t0\\n ,\\t0\\n and\\t0\\n the\\t0\\n truth\\t0\\n that\\t0\\n we\\t2\\n're\\t4\\n all\\t3\\n in\\t7\\n this\\t10\\n together\\t5\\n .\\t0\\n<end>\\n\\nExplanation of neuron 3 behavior: the main thing this neuron does is find\"}, {'role': <Role.ASSISTANT: 'assistant'>, 'content': ' phrases related to community.'}, {'role': <Role.USER: 'user'>, 'content': '\\n\\nNeuron 4\\nActivations:\\n<start>\\nif\\t5\\n(\\t10\\nemailAddressParam\\t0\\n!=\\t8\\nnull\\t5\\n)\\t0\\n<end>\\n<start>\\nif\\t5\\n(\\t10\\nflowViewNameParam\\t0\\n==\\t3\\nnull\\t5\\n||\\t3\\n<end>\\n<start>\\nif\\t5\\n(\\t10\\nincludeTableRecordTypesParam\\t4\\n)\\t0\\n<end>\\n<start>\\nForm\\t4\\n...\\t7\\nformsToGetTableFormsForParam\\t3\\n<end>\\n<start>\\nif\\t5\\n(\\t10\\nancestorIdLcl\\t1\\n!=\\t7\\nnull\\t8\\n)\\t0\\n<end>\\n\\nExplanation of neuron 4 behavior: the main thing this neuron does is find'}]\n",
      "explanation='programming code structures and logic conditions.'\n"
     ]
    }
   ],
   "source": [
    "import os\n",
    "\n",
    "os.environ[\"OPENAI_API_KEY\"] = \"\"\n",
    "from neuron_explainer.activations.activation_records import calculate_max_activation\n",
    "from neuron_explainer.activations.activations import ActivationRecordSliceParams, mod_load_neuron,load_neuron\n",
    "# from neuron_explainer.explanations.calibrated_simulator import UncalibratedNeuronSimulator\n",
    "from neuron_explainer.explanations.explainer import TokenActivationPairExplainer\n",
    "from neuron_explainer.explanations.prompt_builder import PromptFormat\n",
    "# from neuron_explainer.explanations.scoring import simulate_and_score\n",
    "# from neuron_explainer.explanations.simulator import ExplanationNeuronSimulator\n",
    "\n",
    "EXPLAINER_MODEL_NAME = \"gpt-3.5-turbo\"\n",
    "# SIMULATOR_MODEL_NAME = \"text-davinci-003\"\n",
    "\n",
    "\n",
    "# test_response = await client.make_request(prompt=\"test 123<|endofprompt|>\", max_tokens=2)\n",
    "# print(\"Response:\", test_response[\"choices\"][0][\"text\"])\n",
    "\n",
    "## Load a neuron record.\n",
    "filepath = '../data/newdata.json'\n",
    "neuron_record = mod_load_neuron(filepath)\n",
    "\n",
    "\n",
    "# Grab the activation records we'll need.\n",
    "slice_params = ActivationRecordSliceParams(n_examples_per_split=5)\n",
    "train_activation_records = neuron_record.train_activation_records(\n",
    "    activation_record_slice_params=slice_params\n",
    ")\n",
    "valid_activation_records = neuron_record.valid_activation_records(\n",
    "    activation_record_slice_params=slice_params\n",
    ")\n",
    "# print('done grabbing the activation record')\n",
    "\n",
    "# Generate an explanation for the neuron.\n",
    "explainer = TokenActivationPairExplainer(\n",
    "    model_name=EXPLAINER_MODEL_NAME,\n",
    "    prompt_format=PromptFormat.HARMONY_V4,\n",
    "    max_concurrent=1,\n",
    ")\n",
    "\n",
    "explanations = await explainer.generate_explanations(\n",
    "    all_activation_records=train_activation_records,\n",
    "    max_activation=calculate_max_activation(train_activation_records),\n",
    "    num_samples=1,\n",
    ")\n",
    "assert len(explanations) == 1\n",
    "explanation = explanations[0]\n",
    "print(f\"{explanation=}\")\n"
   ]
  },
  {
   "cell_type": "code",
   "execution_count": 28,
   "metadata": {},
   "outputs": [
    {
     "name": "stdout",
     "output_type": "stream",
     "text": [
      "HIGHEST ACTIVATED TOKENS\n",
      "account : 2.75133276\n",
      "( : 2.44138598\n",
      "Message : 2.37940383\n",
      "found : 2.35543394\n",
      "message : 2.09572244\n",
      "MOST POSITIVE AVERAGE TOKENS\n",
      "['Message', '(', '!', '...', '&&']\n",
      "Message : 2.297837735\n",
      "( : 1.9217299085416666\n",
      "! : 1.77485001\n",
      "... : 1.52603793\n",
      "&& : 1.2722299675\n",
      "MOST FREQUENT TOKEN\n",
      "( : 48\n",
      "if : 32\n",
      "null : 24\n",
      "!= : 14\n",
      ") : 13\n"
     ]
    }
   ],
   "source": [
    "import json\n",
    "from collections import defaultdict\n",
    "\n",
    "file = '/Users/benjaminlee/Desktop/automated-interpretability/newdata.json'\n",
    "\n",
    "with open(file,'r') as file:\n",
    "    data = json.load(file)\n",
    "dictionary = defaultdict(list)\n",
    "most_activated_tokens = {}\n",
    "for line in data['most_positive_activation_records']:\n",
    "    for i in range(len(line['tokens'])):\n",
    "        dictionary[line['tokens'][i]].append(line['activations'][i])\n",
    "        if line['tokens'][i] in most_activated_tokens:\n",
    "            most_activated_tokens[line['tokens'][i]] = max(line['activations'][i],most_activated_tokens[line['tokens'][i]])\n",
    "        else:\n",
    "            most_activated_tokens[line['tokens'][i]] = line['activations'][i]\n",
    "results = {}\n",
    "\n",
    "for word in dictionary:\n",
    "    if len(dictionary[word]) > 1:\n",
    "        results[word] = (sum(dictionary[word])/len(dictionary[word]))    \n",
    "# for word in dictionary:\n",
    "    # results[word] = (sum(dictionary[word])/len(dictionary[word]))\n",
    "\n",
    "\n",
    "most_positive = sorted(results, key=results.get, reverse=True)[:5]\n",
    "most_activated =  sorted(most_activated_tokens,key=most_activated_tokens.get, reverse=True)[:5]\n",
    "most_frequent = sorted(dictionary,key=lambda key:len(dictionary[key]),reverse=True)[:5]\n",
    "\n",
    "print('HIGHEST ACTIVATED TOKENS') \n",
    "for wd in most_activated:\n",
    "    print(wd + ' : ' + str(most_activated_tokens[wd]))\n",
    "print('MOST POSITIVE AVERAGE TOKENS')\n",
    "print(most_positive)\n",
    "for wd in most_positive:\n",
    "    print(wd + ' : ' + str(results[wd]))\n",
    "print('MOST FREQUENT TOKEN')\n",
    "for wd in most_frequent:\n",
    "    print(wd + ' : ' + str(len(dictionary[wd])))\n"
   ]
  }
 ],
 "metadata": {
  "kernelspec": {
   "display_name": "openai",
   "language": "python",
   "name": "python3"
  },
  "language_info": {
   "codemirror_mode": {
    "name": "ipython",
    "version": 3
   },
   "file_extension": ".py",
   "mimetype": "text/x-python",
   "name": "python",
   "nbconvert_exporter": "python",
   "pygments_lexer": "ipython3",
   "version": "3.11.5"
  },
  "orig_nbformat": 4
 },
 "nbformat": 4,
 "nbformat_minor": 2
}
